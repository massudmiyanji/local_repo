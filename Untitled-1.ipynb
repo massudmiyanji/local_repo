{
 "cells": [
  {
   "cell_type": "code",
   "execution_count": 14,
   "metadata": {},
   "outputs": [],
   "source": [
    "i=5544"
   ]
  },
  {
   "cell_type": "code",
   "execution_count": 15,
   "metadata": {},
   "outputs": [
    {
     "name": "stdout",
     "output_type": "stream",
     "text": [
      "5548\n"
     ]
    }
   ],
   "source": [
    "print(i+4)"
   ]
  },
  {
   "cell_type": "code",
   "execution_count": 17,
   "metadata": {},
   "outputs": [
    {
     "name": "stdout",
     "output_type": "stream",
     "text": [
      "Hola, Grace! Have a fantastic afternoon!\n"
     ]
    }
   ],
   "source": [
    "import random\n",
    "\n",
    "greetings = ['Hello', 'Hi', 'Hey', 'Hola', 'Bonjour', 'Guten Tag']\n",
    "times_of_day = ['morning', 'afternoon', 'evening', 'night']\n",
    "names = ['Alice', 'Bob', 'Charlie', 'Diana', 'Eve', 'Frank', 'Grace']\n",
    "\n",
    "# Randomly select components\n",
    "greeting = random.choice(greetings)\n",
    "time = random.choice(times_of_day)\n",
    "name = random.choice(names)\n",
    "\n",
    "# Generate and print the message\n",
    "print(f\"{greeting}, {name}! Have a fantastic {time}!\")"
   ]
  },
  {
   "cell_type": "code",
   "execution_count": null,
   "metadata": {},
   "outputs": [],
   "source": []
  },
  {
   "cell_type": "code",
   "execution_count": null,
   "metadata": {},
   "outputs": [],
   "source": []
  }
 ],
 "metadata": {
  "kernelspec": {
   "display_name": "Python 3",
   "language": "python",
   "name": "python3"
  },
  "language_info": {
   "codemirror_mode": {
    "name": "ipython",
    "version": 3
   },
   "file_extension": ".py",
   "mimetype": "text/x-python",
   "name": "python",
   "nbconvert_exporter": "python",
   "pygments_lexer": "ipython3",
   "version": "3.12.5"
  }
 },
 "nbformat": 4,
 "nbformat_minor": 2
}
