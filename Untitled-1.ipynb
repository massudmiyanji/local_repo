{
  "cells": [
    {
      "cell_type": "code",
      "execution_count": null,
      "id": "1c71313c",
      "metadata": {},
      "outputs": [],
      "source": [
        "i=55445466"
      ]
    },
    {
      "cell_type": "code",
      "execution_count": null,
      "id": "01c6f963",
      "metadata": {},
      "outputs": [
        {
          "name": "stdout",
          "output_type": "stream",
          "text": [
            "55445470\n"
          ]
        }
      ],
      "source": [
        "print(i+4)"
      ]
    },
    {
      "cell_type": "code",
      "execution_count": null,
      "metadata": {},
      "outputs": [
        {
          "name": "stdout",
          "output_type": "stream",
          "text": [
            "52149\n"
          ]
        }
      ],
      "source": [
        "print(4+52145)"
      ]
    },
    {
      "cell_type": "code",
      "execution_count": null,
      "id": "107a5c3d",
      "metadata": {},
      "outputs": [],
      "source": []
    }
  ],
  "metadata": {
    "kernelspec": {
      "display_name": "Python 3",
      "language": "python",
      "name": "python3"
    }
  },
  "nbformat": 4,
  "nbformat_minor": 5
}
